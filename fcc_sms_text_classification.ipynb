{
  "nbformat": 4,
  "nbformat_minor": 2,
  "metadata": {
    "colab": {
      "name": "fcc_sms_text_classification.ipynb",
      "provenance": [],
      "private_outputs": true,
      "collapsed_sections": [],
      "toc_visible": true
    },
    "kernelspec": {
      "display_name": "Python 3",
      "name": "python3"
    }
  },
  "cells": [
    {
      "cell_type": "markdown",
      "source": [
        "*Note: You are currently reading this using Google Colaboratory which is a cloud-hosted version of Jupyter Notebook. This is a document containing both text cells for documentation and runnable code cells. If you are unfamiliar with Jupyter Notebook, watch this 3-minute introduction before starting this challenge: https://www.youtube.com/watch?v=inN8seMm7UI*\n",
        "\n",
        "---\n",
        "\n",
        "In this challenge, you need to create a machine learning model that will classify SMS messages as either \"ham\" or \"spam\". A \"ham\" message is a normal message sent by a friend. A \"spam\" message is an advertisement or a message sent by a company.\n",
        "\n",
        "You should create a function called `predict_message` that takes a message string as an argument and returns a list. The first element in the list should be a number between zero and one that indicates the likeliness of \"ham\" (0) or \"spam\" (1). The second element in the list should be the word \"ham\" or \"spam\", depending on which is most likely.\n",
        "\n",
        "For this challenge, you will use the [SMS Spam Collection dataset](http://www.dt.fee.unicamp.br/~tiago/smsspamcollection/). The dataset has already been grouped into train data and test data.\n",
        "\n",
        "The first two cells import the libraries and data. The final cell tests your model and function. Add your code in between these cells.\n"
      ],
      "metadata": {
        "id": "Eg62Pmz3o83v"
      }
    },
    {
      "cell_type": "code",
      "execution_count": null,
      "source": [
        "# import libraries\r\n",
        "import tensorflow as tf\r\n",
        "import pandas as pd\r\n",
        "from tensorflow import keras\r\n",
        "!pip install tensorflow-datasets\r\n",
        "import tensorflow_datasets as tfds\r\n",
        "import numpy as np\r\n",
        "import matplotlib.pyplot as plt\r\n",
        "\r\n",
        "print(tf.__version__)"
      ],
      "outputs": [],
      "metadata": {
        "id": "8RZOuS9LWQvv"
      }
    },
    {
      "cell_type": "code",
      "execution_count": null,
      "source": [
        "# get data files\r\n",
        "!wget https://cdn.freecodecamp.org/project-data/sms/train-data.tsv\r\n",
        "!wget https://cdn.freecodecamp.org/project-data/sms/valid-data.tsv\r\n",
        "\r\n",
        "train_file_path = \"train-data.tsv\"\r\n",
        "test_file_path = \"valid-data.tsv\""
      ],
      "outputs": [],
      "metadata": {
        "id": "lMHwYXHXCar3"
      }
    },
    {
      "cell_type": "code",
      "execution_count": null,
      "source": [],
      "outputs": [],
      "metadata": {
        "id": "g_h508FEClxO"
      }
    },
    {
      "cell_type": "code",
      "execution_count": null,
      "source": [],
      "outputs": [],
      "metadata": {
        "id": "zOMKywn4zReN"
      }
    },
    {
      "cell_type": "code",
      "execution_count": null,
      "source": [
        "# function to predict messages based on model\r\n",
        "# (should return list containing prediction and label, ex. [0.008318834938108921, 'ham'])\r\n",
        "def predict_message(pred_text):\r\n",
        "\r\n",
        "\r\n",
        "\r\n",
        "  return (prediction)\r\n",
        "\r\n",
        "pred_text = \"how are you doing today?\"\r\n",
        "\r\n",
        "prediction = predict_message(pred_text)\r\n",
        "print(prediction)"
      ],
      "outputs": [],
      "metadata": {
        "id": "J9tD9yACG6M9"
      }
    },
    {
      "cell_type": "code",
      "execution_count": null,
      "source": [
        "# Run this cell to test your function and model. Do not modify contents.\r\n",
        "def test_predictions():\r\n",
        "  test_messages = [\"how are you doing today\",\r\n",
        "                   \"sale today! to stop texts call 98912460324\",\r\n",
        "                   \"i dont want to go. can we try it a different day? available sat\",\r\n",
        "                   \"our new mobile video service is live. just install on your phone to start watching.\",\r\n",
        "                   \"you have won £1000 cash! call to claim your prize.\",\r\n",
        "                   \"i'll bring it tomorrow. don't forget the milk.\",\r\n",
        "                   \"wow, is your arm alright. that happened to me one time too\"\r\n",
        "                  ]\r\n",
        "\r\n",
        "  test_answers = [\"ham\", \"spam\", \"ham\", \"spam\", \"spam\", \"ham\", \"ham\"]\r\n",
        "  passed = True\r\n",
        "\r\n",
        "  for msg, ans in zip(test_messages, test_answers):\r\n",
        "    prediction = predict_message(msg)\r\n",
        "    if prediction[1] != ans:\r\n",
        "      passed = False\r\n",
        "\r\n",
        "  if passed:\r\n",
        "    print(\"You passed the challenge. Great job!\")\r\n",
        "  else:\r\n",
        "    print(\"You haven't passed yet. Keep trying.\")\r\n",
        "\r\n",
        "test_predictions()\r\n"
      ],
      "outputs": [],
      "metadata": {
        "id": "Dxotov85SjsC"
      }
    }
  ]
}